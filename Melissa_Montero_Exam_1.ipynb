{
  "nbformat": 4,
  "nbformat_minor": 0,
  "metadata": {
    "colab": {
      "name": "Melissa_Montero_Exam_1",
      "provenance": [],
      "collapsed_sections": []
    },
    "kernelspec": {
      "name": "python3",
      "display_name": "Python 3"
    },
    "language_info": {
      "name": "python"
    }
  },
  "cells": [
    {
      "cell_type": "code",
      "execution_count": 4,
      "metadata": {
        "colab": {
          "base_uri": "https://localhost:8080/"
        },
        "id": "Drp3Up_MZ3gL",
        "outputId": "9d54faf0-aa92-4b74-fa41-b365e9e8935c"
      },
      "outputs": [
        {
          "output_type": "stream",
          "name": "stdout",
          "text": [
            "['Batman', 'Superman', 'Spiderman']\n",
            "0\n",
            "Batman\n",
            "Wonderwoman\n",
            "0\n",
            "['Superman', 'Spiderman', 'Wonderwoman']\n"
          ]
        }
      ],
      "source": [
        "heroes = ['Batman', 'Superman', 'Spiderman']\n",
        "print(heroes)\n",
        "print(heroes.index('Batman'))\n",
        "print(heroes[0])\n",
        "heroes.append( 'Wonderwoman')\n",
        "heroes.remove('Batman')\n",
        "print(heroes[2])\n",
        "print(heroes.index('Superman'))\n",
        "print(heroes)"
      ]
    },
    {
      "cell_type": "markdown",
      "source": [
        "this code have a 3 heroes"
      ],
      "metadata": {
        "id": "3gSZOIqECkCC"
      }
    },
    {
      "cell_type": "markdown",
      "source": [
        ""
      ],
      "metadata": {
        "id": "AsZ7MZcEd3zV"
      }
    },
    {
      "cell_type": "code",
      "source": [
        ""
      ],
      "metadata": {
        "id": "KGPxCROxd3nk"
      },
      "execution_count": null,
      "outputs": []
    },
    {
      "cell_type": "markdown",
      "source": [
        " "
      ],
      "metadata": {
        "id": "dq1wkKuCcRwI"
      }
    },
    {
      "cell_type": "code",
      "source": [
        "heroes = ['Batman','Superman','Spiderman']\n",
        "print('Batman' in heroes)\n",
        "print('Ironman' not in heroes)\n",
        "hero = 'Superman'\n",
        "print(hero in heroes)\n",
        "print('Ironman' not in ['Captain America','Ironman','Hulk'])"
      ],
      "metadata": {
        "colab": {
          "base_uri": "https://localhost:8080/"
        },
        "id": "W2p9UFFGdNGz",
        "outputId": "28931390-7164-4706-82ff-84665a67aedc"
      },
      "execution_count": 5,
      "outputs": [
        {
          "output_type": "stream",
          "name": "stdout",
          "text": [
            "True\n",
            "True\n",
            "True\n",
            "False\n"
          ]
        }
      ]
    },
    {
      "cell_type": "markdown",
      "source": [
        "this code was 3 heroes and ironman is not a hero"
      ],
      "metadata": {
        "id": "2dQs8LIeBUUe"
      }
    },
    {
      "cell_type": "code",
      "source": [
        "heroes1 = ['Batman','Superman','Spiderman']\n",
        "heroes2 = ['Captain America','Ironman','Hulk']\n",
        "print(heroes1+heroes2)\n",
        "heroes = heroes1 + heroes2\n",
        "heroes2.remove('Hulk')\n",
        "print(heroes)"
      ],
      "metadata": {
        "colab": {
          "base_uri": "https://localhost:8080/"
        },
        "id": "6UONoBpVeBmK",
        "outputId": "57f4f0ab-69e9-43c2-f653-bdbaa529eaef"
      },
      "execution_count": 8,
      "outputs": [
        {
          "output_type": "stream",
          "name": "stdout",
          "text": [
            "['Batman', 'Superman', 'Spiderman', 'Captain America', 'Ironman', 'Hulk']\n",
            "['Batman', 'Superman', 'Spiderman', 'Captain America', 'Ironman', 'Hulk']\n"
          ]
        }
      ]
    },
    {
      "cell_type": "markdown",
      "source": [
        "this code have a 6 heroes but hulk is remove "
      ],
      "metadata": {
        "id": "x2p0xZl0BdR6"
      }
    },
    {
      "cell_type": "code",
      "source": [
        "heroes = ['Batman','Superman','spiderman','Captain America','Ironman','Hulk']\n",
        "heroes.sort()\n",
        "heroes.reverse()\n",
        "print(heroes)"
      ],
      "metadata": {
        "colab": {
          "base_uri": "https://localhost:8080/"
        },
        "id": "7EiJcTM9fn26",
        "outputId": "0502787d-cad7-491b-8e20-1ed1c419b8a3"
      },
      "execution_count": 9,
      "outputs": [
        {
          "output_type": "stream",
          "name": "stdout",
          "text": [
            "['spiderman', 'Superman', 'Ironman', 'Hulk', 'Captain America', 'Batman']\n"
          ]
        }
      ]
    },
    {
      "cell_type": "markdown",
      "source": [
        "this code have a 6 name of heroes"
      ],
      "metadata": {
        "id": "0wFD432XCWDw"
      }
    },
    {
      "cell_type": "code",
      "source": [
        "heroes = ['Batman','Superman','spiderman','Captain Ameerica','Ironman','Hulk']\n",
        "print(sorted(heroes))\n",
        "print(list(reversed(heroes)))\n",
        "print(heroes)"
      ],
      "metadata": {
        "colab": {
          "base_uri": "https://localhost:8080/"
        },
        "id": "Gxhp6eaOgmMy",
        "outputId": "e09dc6ff-8e8d-4103-d9bb-04c6a8edccb9"
      },
      "execution_count": 10,
      "outputs": [
        {
          "output_type": "stream",
          "name": "stdout",
          "text": [
            "['Batman', 'Captain Ameerica', 'Hulk', 'Ironman', 'Superman', 'spiderman']\n",
            "['Hulk', 'Ironman', 'Captain Ameerica', 'spiderman', 'Superman', 'Batman']\n",
            "['Batman', 'Superman', 'spiderman', 'Captain Ameerica', 'Ironman', 'Hulk']\n"
          ]
        }
      ]
    },
    {
      "cell_type": "code",
      "source": [
        "heroes = ['Batman','Superman','spiderman','Captain America','Ironman','Hulk']\n",
        "for hero in heroes:\n",
        "  print(f\"my hero is {hero}\")\n",
        "  print(\"my hero is{}\".format(hero))\n"
      ],
      "metadata": {
        "colab": {
          "base_uri": "https://localhost:8080/"
        },
        "id": "DidnOWkFhVHY",
        "outputId": "110e33c7-b111-4267-e2d6-2725a18b9fe5"
      },
      "execution_count": 12,
      "outputs": [
        {
          "output_type": "stream",
          "name": "stdout",
          "text": [
            "my hero is Batman\n",
            "my hero isBatman\n",
            "my hero is Superman\n",
            "my hero isSuperman\n",
            "my hero is spiderman\n",
            "my hero isspiderman\n",
            "my hero is Captain America\n",
            "my hero isCaptain America\n",
            "my hero is Ironman\n",
            "my hero isIronman\n",
            "my hero is Hulk\n",
            "my hero isHulk\n"
          ]
        }
      ]
    },
    {
      "cell_type": "code",
      "source": [
        "numbers = [1,2,3,4,5,6]\n",
        "total = 0\n",
        "for number in numbers:\n",
        "     total = total + number\n",
        "print(total)"
      ],
      "metadata": {
        "colab": {
          "base_uri": "https://localhost:8080/"
        },
        "id": "b_DWO2ZGic7l",
        "outputId": "28879d2e-5e49-420b-8077-472ea633d8ec"
      },
      "execution_count": 14,
      "outputs": [
        {
          "output_type": "stream",
          "name": "stdout",
          "text": [
            "21\n"
          ]
        }
      ]
    },
    {
      "cell_type": "code",
      "source": [
        "numbers = [1,2,3,4,5,6]\n",
        "total = sum(numbers)\n",
        "print(total)"
      ],
      "metadata": {
        "colab": {
          "base_uri": "https://localhost:8080/"
        },
        "id": "dtlWqFV7i5dT",
        "outputId": "423794cf-28e4-448a-f0a7-9f5cd2f18b9a"
      },
      "execution_count": 15,
      "outputs": [
        {
          "output_type": "stream",
          "name": "stdout",
          "text": [
            "21\n"
          ]
        }
      ]
    },
    {
      "cell_type": "code",
      "source": [
        "age = input(\"Type your age:\")\n",
        "age = int(age)\n",
        "if age >=100:\n",
        "  print(\"That is not a valid age\")\n",
        "elif age >= 18:\n",
        "    print(\"You are old enough to drive\")\n",
        "elif age <= 0:\n",
        "      print(\"That is not a valid age\")\n",
        "else:\n",
        "        print(\"You are not old enough to drive\")"
      ],
      "metadata": {
        "colab": {
          "base_uri": "https://localhost:8080/"
        },
        "id": "QSoCOeZZjFOf",
        "outputId": "ec4cc689-64fa-4ea6-ad4c-2de0de67d6b0"
      },
      "execution_count": 22,
      "outputs": [
        {
          "output_type": "stream",
          "name": "stdout",
          "text": [
            "Type your age:33\n",
            "You are old enough to drive\n"
          ]
        }
      ]
    },
    {
      "cell_type": "code",
      "source": [
        "age = input(\"Type your age: \")\n",
        "age = int(age)\n",
        "if age >= 100 or age <= 0:\n",
        "  print(\"That is not a valid age\")\n",
        "elif age >= 18:\n",
        "  print(\"You are old enough to drive\")\n",
        "else:\n",
        "  print(\"You are not old enough to drive\")"
      ],
      "metadata": {
        "colab": {
          "base_uri": "https://localhost:8080/"
        },
        "id": "U5pCGu_slqh8",
        "outputId": "2d8aa6b2-772a-44da-8791-03d4f9cb2b6a"
      },
      "execution_count": 23,
      "outputs": [
        {
          "output_type": "stream",
          "name": "stdout",
          "text": [
            "Type your age: 33\n",
            "You are old enough to drive\n"
          ]
        }
      ]
    },
    {
      "cell_type": "code",
      "source": [
        "numbers = [200,100,43,10, -10, 0]\n",
        "for number in numbers:\n",
        "  if number > 100:\n",
        "    print(f\"{number} is greater than 100\")\n",
        "  elif number < 100:\n",
        "      print(f\"{number} is less than 100\")"
      ],
      "metadata": {
        "colab": {
          "base_uri": "https://localhost:8080/"
        },
        "id": "oOMoBMsamcbC",
        "outputId": "5552eff1-c3dd-40d4-a89e-f731d3b42fc4"
      },
      "execution_count": 28,
      "outputs": [
        {
          "output_type": "stream",
          "name": "stdout",
          "text": [
            "200 is greater than 100\n",
            "43 is less than 100\n",
            "10 is less than 100\n",
            "-10 is less than 100\n",
            "0 is less than 100\n"
          ]
        }
      ]
    },
    {
      "cell_type": "code",
      "source": [
        "numbers = [200,100,43,10,-10,0]\n",
        "filtered =[]\n",
        "\n",
        "for number in numbers:\n",
        "    if number > 30:\n",
        "      filtered.append(number)\n",
        "\n",
        "print(filter)\n"
      ],
      "metadata": {
        "colab": {
          "base_uri": "https://localhost:8080/"
        },
        "id": "vvbelyPkngAQ",
        "outputId": "3f077506-ee87-47e2-85ea-30a30a8c80d5"
      },
      "execution_count": 31,
      "outputs": [
        {
          "output_type": "stream",
          "name": "stdout",
          "text": [
            "<class 'filter'>\n"
          ]
        }
      ]
    }
  ]
}