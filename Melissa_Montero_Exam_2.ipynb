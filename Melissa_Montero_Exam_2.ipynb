{
  "nbformat": 4,
  "nbformat_minor": 0,
  "metadata": {
    "colab": {
      "name": "Melissa_Montero_Exam_2",
      "provenance": [],
      "collapsed_sections": []
    },
    "kernelspec": {
      "name": "python3",
      "display_name": "Python 3"
    },
    "language_info": {
      "name": "python"
    }
  },
  "cells": [
    {
      "cell_type": "code",
      "execution_count": 11,
      "metadata": {
        "colab": {
          "base_uri": "https://localhost:8080/"
        },
        "id": "CQT3bF3rokK3",
        "outputId": "da705ff3-552c-46e1-9aac-d2fa57e9c9ec"
      },
      "outputs": [
        {
          "output_type": "stream",
          "name": "stdout",
          "text": [
            "1 is odd\n",
            "2 is even\n",
            "3 is odd\n",
            "4 is even\n",
            "5 is odd\n",
            "6 is even\n"
          ]
        }
      ],
      "source": [
        "numbers = [1, 2, 3, 4, 5, 6]\n",
        "\n",
        "for number in numbers:\n",
        "    if (number%2) == 0:\n",
        "        print(f\"{number} is even\")\n",
        "    else:\n",
        "        print(f\"{number} is odd\")"
      ]
    },
    {
      "cell_type": "markdown",
      "source": [
        "this code has separate the even number and odd number"
      ],
      "metadata": {
        "id": "cGOOhCgv81aI"
      }
    },
    {
      "cell_type": "code",
      "source": [
        "numbers = [1, 2, 3, 4, 5, 6]\n",
        "evens = [ ]\n",
        "odds = [ ]\n",
        "\n",
        "for number in numbers:\n",
        "    if (number%2) == 0:\n",
        "        evens.append(number)\n",
        "\n",
        "for number in numbers:\n",
        "    if (number%2) != 0:\n",
        "        odds.append(number)\n",
        "\n",
        "print(evens)\n",
        "print(odds)"
      ],
      "metadata": {
        "colab": {
          "base_uri": "https://localhost:8080/"
        },
        "id": "QHctEh9dq3Z6",
        "outputId": "fdb31d32-2a62-4354-8fea-f3fe3b7c2795"
      },
      "execution_count": 13,
      "outputs": [
        {
          "output_type": "stream",
          "name": "stdout",
          "text": [
            "[2, 4, 6]\n",
            "[1, 3, 5]\n"
          ]
        }
      ]
    },
    {
      "cell_type": "markdown",
      "source": [
        "this code was print the even and odd number"
      ],
      "metadata": {
        "id": "on4R0HI_9tvo"
      }
    },
    {
      "cell_type": "code",
      "source": [
        "numbers = [1, 2, 3, 4, 5, 6]\n",
        "doubles = [ ]\n",
        "for number in numbers:\n",
        "    number *= 2\n",
        "    doubles.append(number)\n",
        "print(doubles)"
      ],
      "metadata": {
        "colab": {
          "base_uri": "https://localhost:8080/"
        },
        "id": "VdT7zdnPr3CD",
        "outputId": "f16d21bc-7dc4-4c03-907c-338ad280367c"
      },
      "execution_count": 14,
      "outputs": [
        {
          "output_type": "stream",
          "name": "stdout",
          "text": [
            "[2, 4, 6, 8, 10, 12]\n"
          ]
        }
      ]
    },
    {
      "cell_type": "markdown",
      "source": [
        "this code is even number only"
      ],
      "metadata": {
        "id": "0iwWIV1J-O1j"
      }
    },
    {
      "cell_type": "code",
      "source": [
        "numbers = [1, 2, 3, 4, 5, 6]\n",
        "\n",
        "evens = [number for number in numbers if (number % 2) == 0]\n",
        "odds = [number for number in numbers if (number % 2) != 0]\n",
        "\n",
        "print(evens)\n",
        "print(odds)"
      ],
      "metadata": {
        "colab": {
          "base_uri": "https://localhost:8080/"
        },
        "id": "idHgW_ZlshOb",
        "outputId": "1b3b3689-2821-48e5-b202-9535f8542944"
      },
      "execution_count": 17,
      "outputs": [
        {
          "output_type": "stream",
          "name": "stdout",
          "text": [
            "[2, 4, 6]\n",
            "[1, 3, 5]\n"
          ]
        }
      ]
    },
    {
      "cell_type": "markdown",
      "source": [
        "this code was separate the even and odd number"
      ],
      "metadata": {
        "id": "QSr2tmZ8-ZZh"
      }
    },
    {
      "cell_type": "code",
      "source": [
        "numbers = [1, 2, 3, 4, 5, 6]\n",
        "doubles = [number * 2 for number in numbers]\n",
        "print(doubles)"
      ],
      "metadata": {
        "colab": {
          "base_uri": "https://localhost:8080/"
        },
        "id": "yKvNAHUVt1aG",
        "outputId": "63bc2b50-cec7-4e83-80fd-ee10a1133888"
      },
      "execution_count": 18,
      "outputs": [
        {
          "output_type": "stream",
          "name": "stdout",
          "text": [
            "[2, 4, 6, 8, 10, 12]\n"
          ]
        }
      ]
    },
    {
      "cell_type": "markdown",
      "source": [
        "in this code was the even number was double"
      ],
      "metadata": {
        "id": "JX3vL-eb-sUh"
      }
    },
    {
      "cell_type": "code",
      "source": [
        ""
      ],
      "metadata": {
        "id": "qngwALvXuMqe"
      },
      "execution_count": null,
      "outputs": []
    },
    {
      "cell_type": "code",
      "source": [
        "name_lengths = []\n",
        "names = [\"alice\",\"bob\",\"carol\"]\n",
        "name_lengths = [len(name) for name in names]\n",
        "\n",
        "print(name_lengths)"
      ],
      "metadata": {
        "colab": {
          "base_uri": "https://localhost:8080/"
        },
        "id": "ZLlCDv5nuMzW",
        "outputId": "49aad76b-c81f-4a7f-8be4-b3fc8356329d"
      },
      "execution_count": 19,
      "outputs": [
        {
          "output_type": "stream",
          "name": "stdout",
          "text": [
            "[5, 3, 5]\n"
          ]
        }
      ]
    },
    {
      "cell_type": "markdown",
      "source": [
        "in this code is have a 3 name and length "
      ],
      "metadata": {
        "id": "wA7UHaV4_PdR"
      }
    },
    {
      "cell_type": "code",
      "source": [
        "record = [\"alice\", 5]\n",
        "\n",
        "name, length = record\n",
        "name, length= record\n",
        "\n",
        "print(f\"{name} have a length of {length}\")"
      ],
      "metadata": {
        "colab": {
          "base_uri": "https://localhost:8080/"
        },
        "id": "RsjX_jxjutiS",
        "outputId": "5c7be3dd-4f46-41a8-ff2b-222d6d77e1d7"
      },
      "execution_count": 26,
      "outputs": [
        {
          "output_type": "stream",
          "name": "stdout",
          "text": [
            "alice have a length of 5\n"
          ]
        }
      ]
    },
    {
      "cell_type": "markdown",
      "source": [
        "in this code is only alice in her length"
      ],
      "metadata": {
        "id": "2wB657oa_t2D"
      }
    },
    {
      "cell_type": "code",
      "source": [
        "records = [ \n",
        "           \n",
        "           [\"alice\", 5],\n",
        "           [\"bob\", 3],\n",
        "           [\"carol\", 5],\n",
        "]\n",
        "\n",
        "for name, length in records:\n",
        "    print(f\"{name} have a length of {length}\")\n",
        "           \n"
      ],
      "metadata": {
        "colab": {
          "base_uri": "https://localhost:8080/"
        },
        "id": "ljErZHMHwkqc",
        "outputId": "16089125-7109-43d9-8ab7-320a00b8e107"
      },
      "execution_count": 27,
      "outputs": [
        {
          "output_type": "stream",
          "name": "stdout",
          "text": [
            "alice have a length of 5\n",
            "bob have a length of 3\n",
            "carol have a length of 5\n"
          ]
        }
      ]
    },
    {
      "cell_type": "markdown",
      "source": [
        "in this code alice and carol is they have a same length "
      ],
      "metadata": {
        "id": "EhQIjpb3AHgF"
      }
    },
    {
      "cell_type": "code",
      "source": [
        "names = [\"alice\", \"bob\", \"carol\"]\n",
        "name_lengths = [5, 3, 5]\n",
        "\n",
        "for name, length in  zip(names, name_lengths):\n",
        "    print(f\"{name}have a length of {length}\")\n",
        "\n",
        "print (zip(names, name_lengths))\n",
        "print (list(zip(names, name_lengths)))"
      ],
      "metadata": {
        "id": "CtKSrcVZxZv2",
        "outputId": "d7af92ab-a5cc-47de-ecf8-15ecfc645aae",
        "colab": {
          "base_uri": "https://localhost:8080/"
        }
      },
      "execution_count": 32,
      "outputs": [
        {
          "output_type": "stream",
          "name": "stdout",
          "text": [
            "alicehave a length of 5\n",
            "bobhave a length of 3\n",
            "carolhave a length of 5\n",
            "<zip object at 0x7f987c90b190>\n",
            "[('alice', 5), ('bob', 3), ('carol', 5)]\n"
          ]
        }
      ]
    },
    {
      "cell_type": "markdown",
      "source": [
        ""
      ],
      "metadata": {
        "id": "uTfYxTUdAxEh"
      }
    },
    {
      "cell_type": "code",
      "source": [
        "names = [\"alice\", \"bob\", \"carol\", \"marvin\"]\n",
        "name_lengths = [5, 3, 5]\n",
        "genders = [\"female\", \"male\", \"female\"]\n",
        "ages = [15, 22, 34]\n",
        "\n",
        "for name, length, gender, age in zip(names, name_lengths, genders, ages):\n",
        "    print(f\"{name} have a length of {length}. they are {gender}. Ages are {age}\")\n",
        "print(filter)"
      ],
      "metadata": {
        "id": "JG5ydCFE7O85",
        "outputId": "d542ae2e-14e6-4d19-b201-fc972a3b0c34",
        "colab": {
          "base_uri": "https://localhost:8080/"
        }
      },
      "execution_count": 31,
      "outputs": [
        {
          "output_type": "stream",
          "name": "stdout",
          "text": [
            "alice have a length of 5. they are female. Ages are 15\n",
            "bob have a length of 3. they are male. Ages are 22\n",
            "carol have a length of 5. they are female. Ages are 34\n",
            "<class 'filter'>\n"
          ]
        }
      ]
    }
  ]
}